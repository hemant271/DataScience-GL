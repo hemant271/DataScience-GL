{
 "cells": [
  {
   "cell_type": "code",
   "execution_count": 307,
   "id": "258a3fa4",
   "metadata": {},
   "outputs": [],
   "source": [
    "import pandas as pd\n",
    "import numpy as np\n",
    "import matplotlib.pyplot as plt\n",
    "import seaborn as sns\n",
    "%matplotlib inline"
   ]
  },
  {
   "cell_type": "code",
   "execution_count": 308,
   "id": "c50fe7f6",
   "metadata": {},
   "outputs": [],
   "source": [
    "df = pd.read_csv(\"dataset_group.csv\")"
   ]
  },
  {
   "cell_type": "code",
   "execution_count": 309,
   "id": "f66662fe",
   "metadata": {},
   "outputs": [
    {
     "data": {
      "text/html": [
       "<div>\n",
       "<style scoped>\n",
       "    .dataframe tbody tr th:only-of-type {\n",
       "        vertical-align: middle;\n",
       "    }\n",
       "\n",
       "    .dataframe tbody tr th {\n",
       "        vertical-align: top;\n",
       "    }\n",
       "\n",
       "    .dataframe thead th {\n",
       "        text-align: right;\n",
       "    }\n",
       "</style>\n",
       "<table border=\"1\" class=\"dataframe\">\n",
       "  <thead>\n",
       "    <tr style=\"text-align: right;\">\n",
       "      <th></th>\n",
       "      <th>Date</th>\n",
       "      <th>Order_id</th>\n",
       "      <th>Product</th>\n",
       "    </tr>\n",
       "  </thead>\n",
       "  <tbody>\n",
       "    <tr>\n",
       "      <th>0</th>\n",
       "      <td>01-01-2018</td>\n",
       "      <td>1</td>\n",
       "      <td>yogurt</td>\n",
       "    </tr>\n",
       "    <tr>\n",
       "      <th>1</th>\n",
       "      <td>01-01-2018</td>\n",
       "      <td>1</td>\n",
       "      <td>pork</td>\n",
       "    </tr>\n",
       "    <tr>\n",
       "      <th>2</th>\n",
       "      <td>01-01-2018</td>\n",
       "      <td>1</td>\n",
       "      <td>sandwich bags</td>\n",
       "    </tr>\n",
       "    <tr>\n",
       "      <th>3</th>\n",
       "      <td>01-01-2018</td>\n",
       "      <td>1</td>\n",
       "      <td>lunch meat</td>\n",
       "    </tr>\n",
       "    <tr>\n",
       "      <th>4</th>\n",
       "      <td>01-01-2018</td>\n",
       "      <td>1</td>\n",
       "      <td>all- purpose</td>\n",
       "    </tr>\n",
       "  </tbody>\n",
       "</table>\n",
       "</div>"
      ],
      "text/plain": [
       "         Date  Order_id        Product\n",
       "0  01-01-2018         1         yogurt\n",
       "1  01-01-2018         1           pork\n",
       "2  01-01-2018         1  sandwich bags\n",
       "3  01-01-2018         1     lunch meat\n",
       "4  01-01-2018         1   all- purpose"
      ]
     },
     "execution_count": 309,
     "metadata": {},
     "output_type": "execute_result"
    }
   ],
   "source": [
    "df.head()"
   ]
  },
  {
   "cell_type": "code",
   "execution_count": 310,
   "id": "003d5781",
   "metadata": {},
   "outputs": [
    {
     "data": {
      "text/plain": [
       "(20641, 3)"
      ]
     },
     "execution_count": 310,
     "metadata": {},
     "output_type": "execute_result"
    }
   ],
   "source": [
    "df.shape"
   ]
  },
  {
   "cell_type": "code",
   "execution_count": 311,
   "id": "d477dfdf",
   "metadata": {},
   "outputs": [
    {
     "data": {
      "text/plain": [
       "Date        0\n",
       "Order_id    0\n",
       "Product     0\n",
       "dtype: int64"
      ]
     },
     "execution_count": 311,
     "metadata": {},
     "output_type": "execute_result"
    }
   ],
   "source": [
    "df.isnull().sum()"
   ]
  },
  {
   "cell_type": "code",
   "execution_count": 312,
   "id": "3bb3578b",
   "metadata": {},
   "outputs": [
    {
     "data": {
      "text/plain": [
       "4730"
      ]
     },
     "execution_count": 312,
     "metadata": {},
     "output_type": "execute_result"
    }
   ],
   "source": [
    "df.duplicated().sum()"
   ]
  },
  {
   "cell_type": "code",
   "execution_count": 313,
   "id": "88fd2ffd",
   "metadata": {},
   "outputs": [
    {
     "name": "stdout",
     "output_type": "stream",
     "text": [
      "<class 'pandas.core.frame.DataFrame'>\n",
      "RangeIndex: 20641 entries, 0 to 20640\n",
      "Data columns (total 3 columns):\n",
      " #   Column    Non-Null Count  Dtype \n",
      "---  ------    --------------  ----- \n",
      " 0   Date      20641 non-null  object\n",
      " 1   Order_id  20641 non-null  int64 \n",
      " 2   Product   20641 non-null  object\n",
      "dtypes: int64(1), object(2)\n",
      "memory usage: 483.9+ KB\n"
     ]
    }
   ],
   "source": [
    "df.info()"
   ]
  },
  {
   "cell_type": "code",
   "execution_count": 314,
   "id": "c54f621a",
   "metadata": {},
   "outputs": [
    {
     "data": {
      "text/html": [
       "<div>\n",
       "<style scoped>\n",
       "    .dataframe tbody tr th:only-of-type {\n",
       "        vertical-align: middle;\n",
       "    }\n",
       "\n",
       "    .dataframe tbody tr th {\n",
       "        vertical-align: top;\n",
       "    }\n",
       "\n",
       "    .dataframe thead th {\n",
       "        text-align: right;\n",
       "    }\n",
       "</style>\n",
       "<table border=\"1\" class=\"dataframe\">\n",
       "  <thead>\n",
       "    <tr style=\"text-align: right;\">\n",
       "      <th></th>\n",
       "      <th>count</th>\n",
       "      <th>mean</th>\n",
       "      <th>std</th>\n",
       "      <th>min</th>\n",
       "      <th>25%</th>\n",
       "      <th>50%</th>\n",
       "      <th>75%</th>\n",
       "      <th>max</th>\n",
       "    </tr>\n",
       "  </thead>\n",
       "  <tbody>\n",
       "    <tr>\n",
       "      <th>Order_id</th>\n",
       "      <td>20641.0</td>\n",
       "      <td>575.986289</td>\n",
       "      <td>328.557078</td>\n",
       "      <td>1.0</td>\n",
       "      <td>292.0</td>\n",
       "      <td>581.0</td>\n",
       "      <td>862.0</td>\n",
       "      <td>1139.0</td>\n",
       "    </tr>\n",
       "  </tbody>\n",
       "</table>\n",
       "</div>"
      ],
      "text/plain": [
       "            count        mean         std  min    25%    50%    75%     max\n",
       "Order_id  20641.0  575.986289  328.557078  1.0  292.0  581.0  862.0  1139.0"
      ]
     },
     "execution_count": 314,
     "metadata": {},
     "output_type": "execute_result"
    }
   ],
   "source": [
    "df.describe().T"
   ]
  },
  {
   "cell_type": "markdown",
   "id": "eb00e971",
   "metadata": {},
   "source": [
    "### Exploratory Analysis"
   ]
  },
  {
   "cell_type": "code",
   "execution_count": 315,
   "id": "6f95ca10",
   "metadata": {},
   "outputs": [],
   "source": [
    "# Transformation\n",
    "\n",
    "df['Product'] = df['Product'].str.capitalize()"
   ]
  },
  {
   "cell_type": "code",
   "execution_count": 316,
   "id": "6a9a7672",
   "metadata": {},
   "outputs": [
    {
     "data": {
      "text/html": [
       "<div>\n",
       "<style scoped>\n",
       "    .dataframe tbody tr th:only-of-type {\n",
       "        vertical-align: middle;\n",
       "    }\n",
       "\n",
       "    .dataframe tbody tr th {\n",
       "        vertical-align: top;\n",
       "    }\n",
       "\n",
       "    .dataframe thead th {\n",
       "        text-align: right;\n",
       "    }\n",
       "</style>\n",
       "<table border=\"1\" class=\"dataframe\">\n",
       "  <thead>\n",
       "    <tr style=\"text-align: right;\">\n",
       "      <th></th>\n",
       "      <th>index</th>\n",
       "      <th>Product</th>\n",
       "    </tr>\n",
       "  </thead>\n",
       "  <tbody>\n",
       "    <tr>\n",
       "      <th>0</th>\n",
       "      <td>Poultry</td>\n",
       "      <td>640</td>\n",
       "    </tr>\n",
       "    <tr>\n",
       "      <th>1</th>\n",
       "      <td>Soda</td>\n",
       "      <td>597</td>\n",
       "    </tr>\n",
       "    <tr>\n",
       "      <th>2</th>\n",
       "      <td>Cereals</td>\n",
       "      <td>591</td>\n",
       "    </tr>\n",
       "    <tr>\n",
       "      <th>3</th>\n",
       "      <td>Ice cream</td>\n",
       "      <td>579</td>\n",
       "    </tr>\n",
       "    <tr>\n",
       "      <th>4</th>\n",
       "      <td>Cheeses</td>\n",
       "      <td>578</td>\n",
       "    </tr>\n",
       "    <tr>\n",
       "      <th>5</th>\n",
       "      <td>Waffles</td>\n",
       "      <td>575</td>\n",
       "    </tr>\n",
       "    <tr>\n",
       "      <th>6</th>\n",
       "      <td>Soap</td>\n",
       "      <td>574</td>\n",
       "    </tr>\n",
       "    <tr>\n",
       "      <th>7</th>\n",
       "      <td>Lunch meat</td>\n",
       "      <td>573</td>\n",
       "    </tr>\n",
       "    <tr>\n",
       "      <th>8</th>\n",
       "      <td>Bagels</td>\n",
       "      <td>573</td>\n",
       "    </tr>\n",
       "    <tr>\n",
       "      <th>9</th>\n",
       "      <td>Eggs</td>\n",
       "      <td>570</td>\n",
       "    </tr>\n",
       "    <tr>\n",
       "      <th>10</th>\n",
       "      <td>Juice</td>\n",
       "      <td>570</td>\n",
       "    </tr>\n",
       "    <tr>\n",
       "      <th>11</th>\n",
       "      <td>Toilet paper</td>\n",
       "      <td>569</td>\n",
       "    </tr>\n",
       "    <tr>\n",
       "      <th>12</th>\n",
       "      <td>Dinner rolls</td>\n",
       "      <td>567</td>\n",
       "    </tr>\n",
       "    <tr>\n",
       "      <th>13</th>\n",
       "      <td>Aluminum foil</td>\n",
       "      <td>566</td>\n",
       "    </tr>\n",
       "    <tr>\n",
       "      <th>14</th>\n",
       "      <td>Coffee/tea</td>\n",
       "      <td>565</td>\n",
       "    </tr>\n",
       "    <tr>\n",
       "      <th>15</th>\n",
       "      <td>Shampoo</td>\n",
       "      <td>562</td>\n",
       "    </tr>\n",
       "    <tr>\n",
       "      <th>16</th>\n",
       "      <td>Beef</td>\n",
       "      <td>561</td>\n",
       "    </tr>\n",
       "    <tr>\n",
       "      <th>17</th>\n",
       "      <td>Paper towels</td>\n",
       "      <td>556</td>\n",
       "    </tr>\n",
       "    <tr>\n",
       "      <th>18</th>\n",
       "      <td>Flour</td>\n",
       "      <td>555</td>\n",
       "    </tr>\n",
       "    <tr>\n",
       "      <th>19</th>\n",
       "      <td>Milk</td>\n",
       "      <td>555</td>\n",
       "    </tr>\n",
       "    <tr>\n",
       "      <th>20</th>\n",
       "      <td>Butter</td>\n",
       "      <td>555</td>\n",
       "    </tr>\n",
       "    <tr>\n",
       "      <th>21</th>\n",
       "      <td>Mixes</td>\n",
       "      <td>554</td>\n",
       "    </tr>\n",
       "    <tr>\n",
       "      <th>22</th>\n",
       "      <td>Dishwashing liquid/detergent</td>\n",
       "      <td>551</td>\n",
       "    </tr>\n",
       "    <tr>\n",
       "      <th>23</th>\n",
       "      <td>All- purpose</td>\n",
       "      <td>551</td>\n",
       "    </tr>\n",
       "    <tr>\n",
       "      <th>24</th>\n",
       "      <td>Ketchup</td>\n",
       "      <td>548</td>\n",
       "    </tr>\n",
       "    <tr>\n",
       "      <th>25</th>\n",
       "      <td>Yogurt</td>\n",
       "      <td>545</td>\n",
       "    </tr>\n",
       "    <tr>\n",
       "      <th>26</th>\n",
       "      <td>Individual meals</td>\n",
       "      <td>544</td>\n",
       "    </tr>\n",
       "    <tr>\n",
       "      <th>27</th>\n",
       "      <td>Tortillas</td>\n",
       "      <td>543</td>\n",
       "    </tr>\n",
       "    <tr>\n",
       "      <th>28</th>\n",
       "      <td>Laundry detergent</td>\n",
       "      <td>542</td>\n",
       "    </tr>\n",
       "    <tr>\n",
       "      <th>29</th>\n",
       "      <td>Pasta</td>\n",
       "      <td>542</td>\n",
       "    </tr>\n",
       "    <tr>\n",
       "      <th>30</th>\n",
       "      <td>Sandwich bags</td>\n",
       "      <td>536</td>\n",
       "    </tr>\n",
       "    <tr>\n",
       "      <th>31</th>\n",
       "      <td>Spaghetti sauce</td>\n",
       "      <td>536</td>\n",
       "    </tr>\n",
       "    <tr>\n",
       "      <th>32</th>\n",
       "      <td>Sugar</td>\n",
       "      <td>533</td>\n",
       "    </tr>\n",
       "    <tr>\n",
       "      <th>33</th>\n",
       "      <td>Pork</td>\n",
       "      <td>531</td>\n",
       "    </tr>\n",
       "    <tr>\n",
       "      <th>34</th>\n",
       "      <td>Fruits</td>\n",
       "      <td>529</td>\n",
       "    </tr>\n",
       "    <tr>\n",
       "      <th>35</th>\n",
       "      <td>Sandwich loaves</td>\n",
       "      <td>523</td>\n",
       "    </tr>\n",
       "    <tr>\n",
       "      <th>36</th>\n",
       "      <td>Hand soap</td>\n",
       "      <td>502</td>\n",
       "    </tr>\n",
       "  </tbody>\n",
       "</table>\n",
       "</div>"
      ],
      "text/plain": [
       "                           index  Product\n",
       "0                        Poultry      640\n",
       "1                           Soda      597\n",
       "2                        Cereals      591\n",
       "3                      Ice cream      579\n",
       "4                        Cheeses      578\n",
       "5                        Waffles      575\n",
       "6                           Soap      574\n",
       "7                     Lunch meat      573\n",
       "8                         Bagels      573\n",
       "9                           Eggs      570\n",
       "10                         Juice      570\n",
       "11                  Toilet paper      569\n",
       "12                  Dinner rolls      567\n",
       "13                 Aluminum foil      566\n",
       "14                    Coffee/tea      565\n",
       "15                       Shampoo      562\n",
       "16                          Beef      561\n",
       "17                  Paper towels      556\n",
       "18                         Flour      555\n",
       "19                          Milk      555\n",
       "20                        Butter      555\n",
       "21                         Mixes      554\n",
       "22  Dishwashing liquid/detergent      551\n",
       "23                  All- purpose      551\n",
       "24                       Ketchup      548\n",
       "25                        Yogurt      545\n",
       "26              Individual meals      544\n",
       "27                     Tortillas      543\n",
       "28             Laundry detergent      542\n",
       "29                         Pasta      542\n",
       "30                 Sandwich bags      536\n",
       "31               Spaghetti sauce      536\n",
       "32                         Sugar      533\n",
       "33                          Pork      531\n",
       "34                        Fruits      529\n",
       "35               Sandwich loaves      523\n",
       "36                     Hand soap      502"
      ]
     },
     "execution_count": 316,
     "metadata": {},
     "output_type": "execute_result"
    }
   ],
   "source": [
    "df.Product.value_counts().reset_index()"
   ]
  },
  {
   "cell_type": "code",
   "execution_count": 317,
   "id": "37e2e97a",
   "metadata": {},
   "outputs": [],
   "source": [
    "df = df.drop(df[(df.Product == 'All- purpose') | (df.Product == 'Mixes')].index)"
   ]
  },
  {
   "cell_type": "code",
   "execution_count": 318,
   "id": "ad2c483c",
   "metadata": {},
   "outputs": [
    {
     "data": {
      "text/plain": [
       "(19536, 3)"
      ]
     },
     "execution_count": 318,
     "metadata": {},
     "output_type": "execute_result"
    }
   ],
   "source": [
    "df.shape"
   ]
  },
  {
   "cell_type": "code",
   "execution_count": 319,
   "id": "302eb217",
   "metadata": {},
   "outputs": [
    {
     "data": {
      "image/png": "[encoded data removed]",
      "text/plain": [
       "<Figure size 864x504 with 1 Axes>"
      ]
     },
     "metadata": {
      "needs_background": "light"
     },
     "output_type": "display_data"
    }
   ],
   "source": [
    "df['Product'].value_counts().sort_values(ascending=False).plot(kind='bar',figsize=(12,7));"
   ]
  },
  {
   "cell_type": "code",
   "execution_count": 320,
   "id": "7b005421",
   "metadata": {},
   "outputs": [],
   "source": [
    "df['DateTime'] = pd.to_datetime(df['Date'])"
   ]
  },
  {
   "cell_type": "code",
   "execution_count": 321,
   "id": "97fb8287",
   "metadata": {},
   "outputs": [],
   "source": [
    "df.drop(['Date'],axis = 1, inplace = True)"
   ]
  },
  {
   "cell_type": "code",
   "execution_count": 322,
   "id": "12d3857e",
   "metadata": {},
   "outputs": [],
   "source": [
    "df.set_index('DateTime', inplace = True)"
   ]
  },
  {
   "cell_type": "code",
   "execution_count": 323,
   "id": "189e0fce",
   "metadata": {},
   "outputs": [
    {
     "data": {
      "image/png": "[encoded data removed]",
      "text/plain": [
       "<Figure size 864x720 with 1 Axes>"
      ]
     },
     "metadata": {
      "needs_background": "light"
     },
     "output_type": "display_data"
    }
   ],
   "source": [
    "plt.figure(figsize=(12,10))\n",
    "sns.countplot(x = df['Product'], hue = df.index.year, order = df['Product'].value_counts().sort_values(ascending=False).index)\n",
    "plt.xticks(rotation = 90);"
   ]
  },
  {
   "cell_type": "code",
   "execution_count": 324,
   "id": "97732879",
   "metadata": {},
   "outputs": [
    {
     "data": {
      "image/png": "[encoded data removed]",
      "text/plain": [
       "<Figure size 864x504 with 1 Axes>"
      ]
     },
     "metadata": {
      "needs_background": "light"
     },
     "output_type": "display_data"
    }
   ],
   "source": [
    "df[df.index.year == 2018]['Product'].value_counts().sort_values(ascending=False).plot(kind='bar',figsize=(12,7));"
   ]
  },
  {
   "cell_type": "code",
   "execution_count": 325,
   "id": "30d91972",
   "metadata": {},
   "outputs": [
    {
     "data": {
      "image/png": "[encoded data removed]",
      "text/plain": [
       "<Figure size 864x504 with 1 Axes>"
      ]
     },
     "metadata": {
      "needs_background": "light"
     },
     "output_type": "display_data"
    }
   ],
   "source": [
    "df[df.index.year == 2019]['Product'].value_counts().sort_values(ascending=False).plot(kind='bar',figsize=(12,7));"
   ]
  },
  {
   "cell_type": "code",
   "execution_count": 326,
   "id": "4ca87f40",
   "metadata": {},
   "outputs": [
    {
     "data": {
      "image/png": "[encoded data removed]",
      "text/plain": [
       "<Figure size 864x504 with 1 Axes>"
      ]
     },
     "metadata": {
      "needs_background": "light"
     },
     "output_type": "display_data"
    }
   ],
   "source": [
    "df[df.index.year == 2020]['Product'].value_counts().sort_values(ascending=False).plot(kind='bar',figsize=(12,7));"
   ]
  },
  {
   "cell_type": "code",
   "execution_count": 327,
   "id": "4f34912f",
   "metadata": {},
   "outputs": [
    {
     "data": {
      "text/plain": [
       "1     82\n",
       "2     79\n",
       "4     68\n",
       "6     68\n",
       "5     64\n",
       "3     63\n",
       "7     62\n",
       "8     52\n",
       "9     51\n",
       "12    22\n",
       "11    18\n",
       "10    11\n",
       "Name: DateTime, dtype: int64"
      ]
     },
     "execution_count": 327,
     "metadata": {},
     "output_type": "execute_result"
    }
   ],
   "source": [
    "df[df['Product'] == 'Poultry'].index.month.value_counts()"
   ]
  },
  {
   "cell_type": "markdown",
   "id": "6048a6fd",
   "metadata": {},
   "source": [
    "### Market Basket Analysis (Association Rules)"
   ]
  },
  {
   "cell_type": "code",
   "execution_count": 328,
   "id": "7240e27e",
   "metadata": {},
   "outputs": [],
   "source": [
    "from mlxtend.preprocessing import TransactionEncoder\n",
    "from mlxtend.frequent_patterns import apriori\n",
    "from mlxtend.frequent_patterns import association_rules\n",
    "\n",
    "# Disabling Warning\n",
    "import warnings\n",
    "warnings.simplefilter('ignore')"
   ]
  },
  {
   "cell_type": "code",
   "execution_count": 329,
   "id": "98b368ff",
   "metadata": {},
   "outputs": [],
   "source": [
    "basket_assign=df.groupby(['Order_id', 'Product'])['Product'].count().unstack().reset_index().fillna(0).set_index('Order_id')"
   ]
  },
  {
   "cell_type": "code",
   "execution_count": 330,
   "id": "17dd59b1",
   "metadata": {},
   "outputs": [
    {
     "data": {
      "text/html": [
       "<div>\n",
       "<style scoped>\n",
       "    .dataframe tbody tr th:only-of-type {\n",
       "        vertical-align: middle;\n",
       "    }\n",
       "\n",
       "    .dataframe tbody tr th {\n",
       "        vertical-align: top;\n",
       "    }\n",
       "\n",
       "    .dataframe thead th {\n",
       "        text-align: right;\n",
       "    }\n",
       "</style>\n",
       "<table border=\"1\" class=\"dataframe\">\n",
       "  <thead>\n",
       "    <tr style=\"text-align: right;\">\n",
       "      <th>Product</th>\n",
       "      <th>Aluminum foil</th>\n",
       "      <th>Bagels</th>\n",
       "      <th>Beef</th>\n",
       "      <th>Butter</th>\n",
       "      <th>Cereals</th>\n",
       "      <th>Cheeses</th>\n",
       "      <th>Coffee/tea</th>\n",
       "      <th>Dinner rolls</th>\n",
       "      <th>Dishwashing liquid/detergent</th>\n",
       "      <th>Eggs</th>\n",
       "      <th>...</th>\n",
       "      <th>Sandwich loaves</th>\n",
       "      <th>Shampoo</th>\n",
       "      <th>Soap</th>\n",
       "      <th>Soda</th>\n",
       "      <th>Spaghetti sauce</th>\n",
       "      <th>Sugar</th>\n",
       "      <th>Toilet paper</th>\n",
       "      <th>Tortillas</th>\n",
       "      <th>Waffles</th>\n",
       "      <th>Yogurt</th>\n",
       "    </tr>\n",
       "    <tr>\n",
       "      <th>Order_id</th>\n",
       "      <th></th>\n",
       "      <th></th>\n",
       "      <th></th>\n",
       "      <th></th>\n",
       "      <th></th>\n",
       "      <th></th>\n",
       "      <th></th>\n",
       "      <th></th>\n",
       "      <th></th>\n",
       "      <th></th>\n",
       "      <th></th>\n",
       "      <th></th>\n",
       "      <th></th>\n",
       "      <th></th>\n",
       "      <th></th>\n",
       "      <th></th>\n",
       "      <th></th>\n",
       "      <th></th>\n",
       "      <th></th>\n",
       "      <th></th>\n",
       "      <th></th>\n",
       "    </tr>\n",
       "  </thead>\n",
       "  <tbody>\n",
       "    <tr>\n",
       "      <th>1</th>\n",
       "      <td>1.0</td>\n",
       "      <td>0.0</td>\n",
       "      <td>1.0</td>\n",
       "      <td>1.0</td>\n",
       "      <td>0.0</td>\n",
       "      <td>0.0</td>\n",
       "      <td>0.0</td>\n",
       "      <td>2.0</td>\n",
       "      <td>0.0</td>\n",
       "      <td>0.0</td>\n",
       "      <td>...</td>\n",
       "      <td>0.0</td>\n",
       "      <td>1.0</td>\n",
       "      <td>1.0</td>\n",
       "      <td>1.0</td>\n",
       "      <td>0.0</td>\n",
       "      <td>0.0</td>\n",
       "      <td>0.0</td>\n",
       "      <td>0.0</td>\n",
       "      <td>0.0</td>\n",
       "      <td>1.0</td>\n",
       "    </tr>\n",
       "    <tr>\n",
       "      <th>2</th>\n",
       "      <td>1.0</td>\n",
       "      <td>0.0</td>\n",
       "      <td>0.0</td>\n",
       "      <td>0.0</td>\n",
       "      <td>1.0</td>\n",
       "      <td>1.0</td>\n",
       "      <td>0.0</td>\n",
       "      <td>0.0</td>\n",
       "      <td>1.0</td>\n",
       "      <td>0.0</td>\n",
       "      <td>...</td>\n",
       "      <td>0.0</td>\n",
       "      <td>2.0</td>\n",
       "      <td>0.0</td>\n",
       "      <td>0.0</td>\n",
       "      <td>0.0</td>\n",
       "      <td>0.0</td>\n",
       "      <td>1.0</td>\n",
       "      <td>1.0</td>\n",
       "      <td>2.0</td>\n",
       "      <td>1.0</td>\n",
       "    </tr>\n",
       "    <tr>\n",
       "      <th>3</th>\n",
       "      <td>0.0</td>\n",
       "      <td>1.0</td>\n",
       "      <td>0.0</td>\n",
       "      <td>0.0</td>\n",
       "      <td>1.0</td>\n",
       "      <td>1.0</td>\n",
       "      <td>0.0</td>\n",
       "      <td>1.0</td>\n",
       "      <td>0.0</td>\n",
       "      <td>1.0</td>\n",
       "      <td>...</td>\n",
       "      <td>1.0</td>\n",
       "      <td>1.0</td>\n",
       "      <td>2.0</td>\n",
       "      <td>1.0</td>\n",
       "      <td>3.0</td>\n",
       "      <td>0.0</td>\n",
       "      <td>2.0</td>\n",
       "      <td>0.0</td>\n",
       "      <td>0.0</td>\n",
       "      <td>0.0</td>\n",
       "    </tr>\n",
       "    <tr>\n",
       "      <th>4</th>\n",
       "      <td>0.0</td>\n",
       "      <td>0.0</td>\n",
       "      <td>0.0</td>\n",
       "      <td>0.0</td>\n",
       "      <td>1.0</td>\n",
       "      <td>0.0</td>\n",
       "      <td>0.0</td>\n",
       "      <td>0.0</td>\n",
       "      <td>0.0</td>\n",
       "      <td>0.0</td>\n",
       "      <td>...</td>\n",
       "      <td>0.0</td>\n",
       "      <td>0.0</td>\n",
       "      <td>0.0</td>\n",
       "      <td>1.0</td>\n",
       "      <td>0.0</td>\n",
       "      <td>0.0</td>\n",
       "      <td>1.0</td>\n",
       "      <td>0.0</td>\n",
       "      <td>0.0</td>\n",
       "      <td>0.0</td>\n",
       "    </tr>\n",
       "    <tr>\n",
       "      <th>5</th>\n",
       "      <td>0.0</td>\n",
       "      <td>0.0</td>\n",
       "      <td>0.0</td>\n",
       "      <td>0.0</td>\n",
       "      <td>0.0</td>\n",
       "      <td>0.0</td>\n",
       "      <td>0.0</td>\n",
       "      <td>1.0</td>\n",
       "      <td>0.0</td>\n",
       "      <td>1.0</td>\n",
       "      <td>...</td>\n",
       "      <td>1.0</td>\n",
       "      <td>0.0</td>\n",
       "      <td>0.0</td>\n",
       "      <td>1.0</td>\n",
       "      <td>1.0</td>\n",
       "      <td>0.0</td>\n",
       "      <td>1.0</td>\n",
       "      <td>1.0</td>\n",
       "      <td>1.0</td>\n",
       "      <td>1.0</td>\n",
       "    </tr>\n",
       "  </tbody>\n",
       "</table>\n",
       "<p>5 rows × 35 columns</p>\n",
       "</div>"
      ],
      "text/plain": [
       "Product   Aluminum foil  Bagels  Beef  Butter  Cereals  Cheeses  Coffee/tea  \\\n",
       "Order_id                                                                      \n",
       "1                   1.0     0.0   1.0     1.0      0.0      0.0         0.0   \n",
       "2                   1.0     0.0   0.0     0.0      1.0      1.0         0.0   \n",
       "3                   0.0     1.0   0.0     0.0      1.0      1.0         0.0   \n",
       "4                   0.0     0.0   0.0     0.0      1.0      0.0         0.0   \n",
       "5                   0.0     0.0   0.0     0.0      0.0      0.0         0.0   \n",
       "\n",
       "Product   Dinner rolls  Dishwashing liquid/detergent  Eggs  ...  \\\n",
       "Order_id                                                    ...   \n",
       "1                  2.0                           0.0   0.0  ...   \n",
       "2                  0.0                           1.0   0.0  ...   \n",
       "3                  1.0                           0.0   1.0  ...   \n",
       "4                  0.0                           0.0   0.0  ...   \n",
       "5                  1.0                           0.0   1.0  ...   \n",
       "\n",
       "Product   Sandwich loaves  Shampoo  Soap  Soda  Spaghetti sauce  Sugar  \\\n",
       "Order_id                                                                 \n",
       "1                     0.0      1.0   1.0   1.0              0.0    0.0   \n",
       "2                     0.0      2.0   0.0   0.0              0.0    0.0   \n",
       "3                     1.0      1.0   2.0   1.0              3.0    0.0   \n",
       "4                     0.0      0.0   0.0   1.0              0.0    0.0   \n",
       "5                     1.0      0.0   0.0   1.0              1.0    0.0   \n",
       "\n",
       "Product   Toilet paper  Tortillas  Waffles  Yogurt  \n",
       "Order_id                                            \n",
       "1                  0.0        0.0      0.0     1.0  \n",
       "2                  1.0        1.0      2.0     1.0  \n",
       "3                  2.0        0.0      0.0     0.0  \n",
       "4                  1.0        0.0      0.0     0.0  \n",
       "5                  1.0        1.0      1.0     1.0  \n",
       "\n",
       "[5 rows x 35 columns]"
      ]
     },
     "execution_count": 330,
     "metadata": {},
     "output_type": "execute_result"
    }
   ],
   "source": [
    "basket_assign.head()"
   ]
  },
  {
   "cell_type": "code",
   "execution_count": 331,
   "id": "4ba79538",
   "metadata": {},
   "outputs": [],
   "source": [
    "def encode_zero_one(x):\n",
    "    if x <= 0:\n",
    "        return 0\n",
    "    if x >= 1:\n",
    "        return 1"
   ]
  },
  {
   "cell_type": "code",
   "execution_count": 332,
   "id": "e3f690cb",
   "metadata": {},
   "outputs": [],
   "source": [
    "basket=basket_assign.applymap(encode_zero_one)"
   ]
  },
  {
   "cell_type": "markdown",
   "id": "6c1172ff",
   "metadata": {},
   "source": [
    "#### Finding the support using Apriori"
   ]
  },
  {
   "cell_type": "code",
   "execution_count": 333,
   "id": "9c62927e",
   "metadata": {},
   "outputs": [
    {
     "data": {
      "text/html": [
       "<div>\n",
       "<style scoped>\n",
       "    .dataframe tbody tr th:only-of-type {\n",
       "        vertical-align: middle;\n",
       "    }\n",
       "\n",
       "    .dataframe tbody tr th {\n",
       "        vertical-align: top;\n",
       "    }\n",
       "\n",
       "    .dataframe thead th {\n",
       "        text-align: right;\n",
       "    }\n",
       "</style>\n",
       "<table border=\"1\" class=\"dataframe\">\n",
       "  <thead>\n",
       "    <tr style=\"text-align: right;\">\n",
       "      <th></th>\n",
       "      <th>support</th>\n",
       "      <th>itemsets</th>\n",
       "    </tr>\n",
       "  </thead>\n",
       "  <tbody>\n",
       "    <tr>\n",
       "      <th>0</th>\n",
       "      <td>0.384548</td>\n",
       "      <td>(Aluminum foil)</td>\n",
       "    </tr>\n",
       "    <tr>\n",
       "      <th>1</th>\n",
       "      <td>0.385426</td>\n",
       "      <td>(Bagels)</td>\n",
       "    </tr>\n",
       "    <tr>\n",
       "      <th>2</th>\n",
       "      <td>0.374890</td>\n",
       "      <td>(Beef)</td>\n",
       "    </tr>\n",
       "    <tr>\n",
       "      <th>3</th>\n",
       "      <td>0.367867</td>\n",
       "      <td>(Butter)</td>\n",
       "    </tr>\n",
       "    <tr>\n",
       "      <th>4</th>\n",
       "      <td>0.395961</td>\n",
       "      <td>(Cereals)</td>\n",
       "    </tr>\n",
       "    <tr>\n",
       "      <th>...</th>\n",
       "      <td>...</td>\n",
       "      <td>...</td>\n",
       "    </tr>\n",
       "    <tr>\n",
       "      <th>7154</th>\n",
       "      <td>0.051800</td>\n",
       "      <td>(Eggs, Dinner rolls, Soda, Poultry)</td>\n",
       "    </tr>\n",
       "    <tr>\n",
       "      <th>7155</th>\n",
       "      <td>0.051800</td>\n",
       "      <td>(Dinner rolls, Spaghetti sauce, Poultry, Ice c...</td>\n",
       "    </tr>\n",
       "    <tr>\n",
       "      <th>7156</th>\n",
       "      <td>0.051800</td>\n",
       "      <td>(Juice, Dinner rolls, Spaghetti sauce, Poultry)</td>\n",
       "    </tr>\n",
       "    <tr>\n",
       "      <th>7157</th>\n",
       "      <td>0.053556</td>\n",
       "      <td>(Laundry detergent, Dinner rolls, Spaghetti sa...</td>\n",
       "    </tr>\n",
       "    <tr>\n",
       "      <th>7158</th>\n",
       "      <td>0.055312</td>\n",
       "      <td>(Eggs, Pasta, Ice cream, Paper towels)</td>\n",
       "    </tr>\n",
       "  </tbody>\n",
       "</table>\n",
       "<p>7159 rows × 2 columns</p>\n",
       "</div>"
      ],
      "text/plain": [
       "       support                                           itemsets\n",
       "0     0.384548                                    (Aluminum foil)\n",
       "1     0.385426                                           (Bagels)\n",
       "2     0.374890                                             (Beef)\n",
       "3     0.367867                                           (Butter)\n",
       "4     0.395961                                          (Cereals)\n",
       "...        ...                                                ...\n",
       "7154  0.051800                (Eggs, Dinner rolls, Soda, Poultry)\n",
       "7155  0.051800  (Dinner rolls, Spaghetti sauce, Poultry, Ice c...\n",
       "7156  0.051800    (Juice, Dinner rolls, Spaghetti sauce, Poultry)\n",
       "7157  0.053556  (Laundry detergent, Dinner rolls, Spaghetti sa...\n",
       "7158  0.055312             (Eggs, Pasta, Ice cream, Paper towels)\n",
       "\n",
       "[7159 rows x 2 columns]"
      ]
     },
     "execution_count": 333,
     "metadata": {},
     "output_type": "execute_result"
    }
   ],
   "source": [
    "itemsets = apriori(basket, min_support = 0.05, use_colnames = True, low_memory=True)\n",
    "itemsets"
   ]
  },
  {
   "cell_type": "code",
   "execution_count": 334,
   "id": "a88f12d7",
   "metadata": {},
   "outputs": [
    {
     "data": {
      "image/png": "[encoded data removed]",
      "text/plain": [
       "<Figure size 864x504 with 1 Axes>"
      ]
     },
     "metadata": {
      "needs_background": "light"
     },
     "output_type": "display_data"
    }
   ],
   "source": [
    "plt.figure(figsize=(12,7))\n",
    "sns.barplot(itemsets.sort_values('support',ascending=False).iloc[0:15,0],\n",
    "            itemsets.sort_values('support',ascending=False).iloc[0:15,1])\n",
    "#plt.xticks(rotation=90)\n",
    "plt.show()"
   ]
  },
  {
   "cell_type": "markdown",
   "id": "aaa95ec5",
   "metadata": {},
   "source": [
    "#### Check the rules using association_rules"
   ]
  },
  {
   "cell_type": "code",
   "execution_count": 335,
   "id": "2b3903bc",
   "metadata": {},
   "outputs": [],
   "source": [
    "basket = association_rules(itemsets, metric =\"lift\") \n",
    "basket = basket.sort_values(['lift','confidence'], ascending =[False, False]) "
   ]
  },
  {
   "cell_type": "code",
   "execution_count": 336,
   "id": "42d53fb2",
   "metadata": {},
   "outputs": [
    {
     "data": {
      "text/html": [
       "<div>\n",
       "<style scoped>\n",
       "    .dataframe tbody tr th:only-of-type {\n",
       "        vertical-align: middle;\n",
       "    }\n",
       "\n",
       "    .dataframe tbody tr th {\n",
       "        vertical-align: top;\n",
       "    }\n",
       "\n",
       "    .dataframe thead th {\n",
       "        text-align: right;\n",
       "    }\n",
       "</style>\n",
       "<table border=\"1\" class=\"dataframe\">\n",
       "  <thead>\n",
       "    <tr style=\"text-align: right;\">\n",
       "      <th></th>\n",
       "      <th>antecedents</th>\n",
       "      <th>consequents</th>\n",
       "      <th>antecedent support</th>\n",
       "      <th>consequent support</th>\n",
       "      <th>support</th>\n",
       "      <th>confidence</th>\n",
       "      <th>lift</th>\n",
       "      <th>leverage</th>\n",
       "      <th>conviction</th>\n",
       "    </tr>\n",
       "  </thead>\n",
       "  <tbody>\n",
       "    <tr>\n",
       "      <th>40462</th>\n",
       "      <td>(Pasta, Paper towels)</td>\n",
       "      <td>(Eggs, Ice cream)</td>\n",
       "      <td>0.164179</td>\n",
       "      <td>0.166813</td>\n",
       "      <td>0.055312</td>\n",
       "      <td>0.336898</td>\n",
       "      <td>2.019617</td>\n",
       "      <td>0.027924</td>\n",
       "      <td>1.256500</td>\n",
       "    </tr>\n",
       "    <tr>\n",
       "      <th>40459</th>\n",
       "      <td>(Eggs, Ice cream)</td>\n",
       "      <td>(Pasta, Paper towels)</td>\n",
       "      <td>0.166813</td>\n",
       "      <td>0.164179</td>\n",
       "      <td>0.055312</td>\n",
       "      <td>0.331579</td>\n",
       "      <td>2.019617</td>\n",
       "      <td>0.027924</td>\n",
       "      <td>1.250441</td>\n",
       "    </tr>\n",
       "    <tr>\n",
       "      <th>40461</th>\n",
       "      <td>(Pasta, Ice cream)</td>\n",
       "      <td>(Eggs, Paper towels)</td>\n",
       "      <td>0.167691</td>\n",
       "      <td>0.165935</td>\n",
       "      <td>0.055312</td>\n",
       "      <td>0.329843</td>\n",
       "      <td>1.987784</td>\n",
       "      <td>0.027486</td>\n",
       "      <td>1.244581</td>\n",
       "    </tr>\n",
       "    <tr>\n",
       "      <th>40460</th>\n",
       "      <td>(Eggs, Paper towels)</td>\n",
       "      <td>(Pasta, Ice cream)</td>\n",
       "      <td>0.165935</td>\n",
       "      <td>0.167691</td>\n",
       "      <td>0.055312</td>\n",
       "      <td>0.333333</td>\n",
       "      <td>1.987784</td>\n",
       "      <td>0.027486</td>\n",
       "      <td>1.248464</td>\n",
       "    </tr>\n",
       "    <tr>\n",
       "      <th>40378</th>\n",
       "      <td>(Dinner rolls, Paper towels)</td>\n",
       "      <td>(Eggs, Pasta)</td>\n",
       "      <td>0.155399</td>\n",
       "      <td>0.169447</td>\n",
       "      <td>0.051800</td>\n",
       "      <td>0.333333</td>\n",
       "      <td>1.967185</td>\n",
       "      <td>0.025468</td>\n",
       "      <td>1.245830</td>\n",
       "    </tr>\n",
       "  </tbody>\n",
       "</table>\n",
       "</div>"
      ],
      "text/plain": [
       "                        antecedents            consequents  \\\n",
       "40462         (Pasta, Paper towels)      (Eggs, Ice cream)   \n",
       "40459             (Eggs, Ice cream)  (Pasta, Paper towels)   \n",
       "40461            (Pasta, Ice cream)   (Eggs, Paper towels)   \n",
       "40460          (Eggs, Paper towels)     (Pasta, Ice cream)   \n",
       "40378  (Dinner rolls, Paper towels)          (Eggs, Pasta)   \n",
       "\n",
       "       antecedent support  consequent support   support  confidence      lift  \\\n",
       "40462            0.164179            0.166813  0.055312    0.336898  2.019617   \n",
       "40459            0.166813            0.164179  0.055312    0.331579  2.019617   \n",
       "40461            0.167691            0.165935  0.055312    0.329843  1.987784   \n",
       "40460            0.165935            0.167691  0.055312    0.333333  1.987784   \n",
       "40378            0.155399            0.169447  0.051800    0.333333  1.967185   \n",
       "\n",
       "       leverage  conviction  \n",
       "40462  0.027924    1.256500  \n",
       "40459  0.027924    1.250441  \n",
       "40461  0.027486    1.244581  \n",
       "40460  0.027486    1.248464  \n",
       "40378  0.025468    1.245830  "
      ]
     },
     "execution_count": 336,
     "metadata": {},
     "output_type": "execute_result"
    }
   ],
   "source": [
    "basket.head()"
   ]
  },
  {
   "cell_type": "code",
   "execution_count": 359,
   "id": "7734c2f3",
   "metadata": {},
   "outputs": [],
   "source": [
    "recommend = basket[(basket[\"consequent support\"] > 0.2) & (basket[\"confidence\"] > 0.3)].sort_values('confidence', ascending = False)"
   ]
  },
  {
   "cell_type": "code",
   "execution_count": 360,
   "id": "5d1d9db5",
   "metadata": {},
   "outputs": [
    {
     "data": {
      "text/html": [
       "<div>\n",
       "<style scoped>\n",
       "    .dataframe tbody tr th:only-of-type {\n",
       "        vertical-align: middle;\n",
       "    }\n",
       "\n",
       "    .dataframe tbody tr th {\n",
       "        vertical-align: top;\n",
       "    }\n",
       "\n",
       "    .dataframe thead th {\n",
       "        text-align: right;\n",
       "    }\n",
       "</style>\n",
       "<table border=\"1\" class=\"dataframe\">\n",
       "  <thead>\n",
       "    <tr style=\"text-align: right;\">\n",
       "      <th></th>\n",
       "      <th>antecedents</th>\n",
       "      <th>consequents</th>\n",
       "      <th>antecedent support</th>\n",
       "      <th>consequent support</th>\n",
       "      <th>support</th>\n",
       "      <th>confidence</th>\n",
       "      <th>lift</th>\n",
       "      <th>leverage</th>\n",
       "      <th>conviction</th>\n",
       "    </tr>\n",
       "  </thead>\n",
       "  <tbody>\n",
       "    <tr>\n",
       "      <th>40413</th>\n",
       "      <td>(Dinner rolls, Spaghetti sauce, Ice cream)</td>\n",
       "      <td>(Poultry)</td>\n",
       "      <td>0.075505</td>\n",
       "      <td>0.421422</td>\n",
       "      <td>0.051800</td>\n",
       "      <td>0.686047</td>\n",
       "      <td>1.627931</td>\n",
       "      <td>0.019980</td>\n",
       "      <td>1.842877</td>\n",
       "    </tr>\n",
       "    <tr>\n",
       "      <th>40314</th>\n",
       "      <td>(Cereals, Sandwich bags, Bagels)</td>\n",
       "      <td>(Cheeses)</td>\n",
       "      <td>0.075505</td>\n",
       "      <td>0.390694</td>\n",
       "      <td>0.050922</td>\n",
       "      <td>0.674419</td>\n",
       "      <td>1.726209</td>\n",
       "      <td>0.021423</td>\n",
       "      <td>1.871441</td>\n",
       "    </tr>\n",
       "    <tr>\n",
       "      <th>40440</th>\n",
       "      <td>(Laundry detergent, Dinner rolls, Spaghetti sa...</td>\n",
       "      <td>(Poultry)</td>\n",
       "      <td>0.081651</td>\n",
       "      <td>0.421422</td>\n",
       "      <td>0.053556</td>\n",
       "      <td>0.655914</td>\n",
       "      <td>1.556429</td>\n",
       "      <td>0.019146</td>\n",
       "      <td>1.681491</td>\n",
       "    </tr>\n",
       "    <tr>\n",
       "      <th>40454</th>\n",
       "      <td>(Eggs, Pasta, Ice cream)</td>\n",
       "      <td>(Paper towels)</td>\n",
       "      <td>0.085162</td>\n",
       "      <td>0.362599</td>\n",
       "      <td>0.055312</td>\n",
       "      <td>0.649485</td>\n",
       "      <td>1.791193</td>\n",
       "      <td>0.024432</td>\n",
       "      <td>1.818468</td>\n",
       "    </tr>\n",
       "    <tr>\n",
       "      <th>40456</th>\n",
       "      <td>(Eggs, Paper towels, Ice cream)</td>\n",
       "      <td>(Pasta)</td>\n",
       "      <td>0.086040</td>\n",
       "      <td>0.371378</td>\n",
       "      <td>0.055312</td>\n",
       "      <td>0.642857</td>\n",
       "      <td>1.731003</td>\n",
       "      <td>0.023358</td>\n",
       "      <td>1.760140</td>\n",
       "    </tr>\n",
       "  </tbody>\n",
       "</table>\n",
       "</div>"
      ],
      "text/plain": [
       "                                             antecedents     consequents  \\\n",
       "40413         (Dinner rolls, Spaghetti sauce, Ice cream)       (Poultry)   \n",
       "40314                   (Cereals, Sandwich bags, Bagels)       (Cheeses)   \n",
       "40440  (Laundry detergent, Dinner rolls, Spaghetti sa...       (Poultry)   \n",
       "40454                           (Eggs, Pasta, Ice cream)  (Paper towels)   \n",
       "40456                    (Eggs, Paper towels, Ice cream)         (Pasta)   \n",
       "\n",
       "       antecedent support  consequent support   support  confidence      lift  \\\n",
       "40413            0.075505            0.421422  0.051800    0.686047  1.627931   \n",
       "40314            0.075505            0.390694  0.050922    0.674419  1.726209   \n",
       "40440            0.081651            0.421422  0.053556    0.655914  1.556429   \n",
       "40454            0.085162            0.362599  0.055312    0.649485  1.791193   \n",
       "40456            0.086040            0.371378  0.055312    0.642857  1.731003   \n",
       "\n",
       "       leverage  conviction  \n",
       "40413  0.019980    1.842877  \n",
       "40314  0.021423    1.871441  \n",
       "40440  0.019146    1.681491  \n",
       "40454  0.024432    1.818468  \n",
       "40456  0.023358    1.760140  "
      ]
     },
     "execution_count": 360,
     "metadata": {},
     "output_type": "execute_result"
    }
   ],
   "source": [
    "recommend.head()"
   ]
  },
  {
   "cell_type": "code",
   "execution_count": 345,
   "id": "5b3ab642",
   "metadata": {},
   "outputs": [
    {
     "data": {
      "text/plain": [
       "0.05179982440737489"
      ]
     },
     "execution_count": 345,
     "metadata": {},
     "output_type": "execute_result"
    }
   ],
   "source": [
    "# Support Calculation\n",
    "val = basket_assign[(basket_assign[\"Dinner rolls\"] > 0) & (basket_assign[\"Spaghetti sauce\"] > 0) & (basket_assign[\"Ice cream\"] > 0) & (basket_assign[\"Poultry\"] > 0)].count()[0]\n",
    "tot = basket_assign.count()[0]\n",
    "\n",
    "val/tot"
   ]
  },
  {
   "cell_type": "code",
   "execution_count": 348,
   "id": "145d3413",
   "metadata": {},
   "outputs": [
    {
     "data": {
      "text/plain": [
       "0.686046511627907"
      ]
     },
     "execution_count": 348,
     "metadata": {},
     "output_type": "execute_result"
    }
   ],
   "source": [
    "# Confidence Calculation\n",
    "val = basket_assign[(basket_assign[\"Dinner rolls\"] > 0) & (basket_assign[\"Spaghetti sauce\"] > 0) & (basket_assign[\"Ice cream\"] > 0) & (basket_assign[\"Poultry\"] > 0)].count()[0]\n",
    "valX = basket_assign[(basket_assign[\"Dinner rolls\"] > 0) & (basket_assign[\"Spaghetti sauce\"] > 0) & (basket_assign[\"Ice cream\"] > 0)].count()[0]\n",
    "\n",
    "val/valX"
   ]
  },
  {
   "cell_type": "code",
   "execution_count": 353,
   "id": "03e6d5ab",
   "metadata": {},
   "outputs": [
    {
     "data": {
      "text/plain": [
       "1.6279312015503875"
      ]
     },
     "execution_count": 353,
     "metadata": {},
     "output_type": "execute_result"
    }
   ],
   "source": [
    "# Lift Calculation\n",
    "val = basket_assign[(basket_assign[\"Dinner rolls\"] > 0) & (basket_assign[\"Spaghetti sauce\"] > 0) & (basket_assign[\"Ice cream\"] > 0) & (basket_assign[\"Poultry\"] > 0)].count()[0]\n",
    "valA = basket_assign[(basket_assign[\"Dinner rolls\"] > 0) & (basket_assign[\"Spaghetti sauce\"] > 0) & (basket_assign[\"Ice cream\"] > 0)].count()[0]\n",
    "valB = basket_assign[(basket_assign[\"Poultry\"] > 0)].count()[0]\n",
    "tot = tot = basket_assign.count()[0]\n",
    "\n",
    "(val/valA)/(valB/tot)"
   ]
  },
  {
   "cell_type": "code",
   "execution_count": 365,
   "id": "a143e88e",
   "metadata": {},
   "outputs": [],
   "source": [
    "sing_recomm = recommend[['antecedents','consequents','lift']]"
   ]
  },
  {
   "cell_type": "code",
   "execution_count": 371,
   "id": "e0116243",
   "metadata": {},
   "outputs": [],
   "source": [
    "sing_recomm['RN'] = sing_recomm.sort_values(['lift'], ascending=[False]).groupby(['antecedents']).cumcount() + 1"
   ]
  },
  {
   "cell_type": "code",
   "execution_count": 380,
   "id": "36524a14",
   "metadata": {},
   "outputs": [],
   "source": [
    "sing_recomm = sing_recomm[sing_recomm['RN'] == 1]"
   ]
  },
  {
   "cell_type": "code",
   "execution_count": 384,
   "id": "d6918884",
   "metadata": {
    "scrolled": false
   },
   "outputs": [
    {
     "data": {
      "image/png": "[encoded data removed]",
      "text/plain": [
       "<Figure size 864x504 with 1 Axes>"
      ]
     },
     "metadata": {
      "needs_background": "light"
     },
     "output_type": "display_data"
    }
   ],
   "source": [
    "sing_recomm['consequents'].value_counts().sort_values(ascending=False).plot(kind='bar',figsize=(12,7));"
   ]
  },
  {
   "cell_type": "code",
   "execution_count": 387,
   "id": "3c44febe",
   "metadata": {},
   "outputs": [
    {
     "data": {
      "text/html": [
       "<div>\n",
       "<style scoped>\n",
       "    .dataframe tbody tr th:only-of-type {\n",
       "        vertical-align: middle;\n",
       "    }\n",
       "\n",
       "    .dataframe tbody tr th {\n",
       "        vertical-align: top;\n",
       "    }\n",
       "\n",
       "    .dataframe thead th {\n",
       "        text-align: right;\n",
       "    }\n",
       "</style>\n",
       "<table border=\"1\" class=\"dataframe\">\n",
       "  <thead>\n",
       "    <tr style=\"text-align: right;\">\n",
       "      <th></th>\n",
       "      <th>antecedents</th>\n",
       "      <th>consequents</th>\n",
       "      <th>lift</th>\n",
       "      <th>RN</th>\n",
       "    </tr>\n",
       "  </thead>\n",
       "  <tbody>\n",
       "    <tr>\n",
       "      <th>40454</th>\n",
       "      <td>(Eggs, Pasta, Ice cream)</td>\n",
       "      <td>(Paper towels)</td>\n",
       "      <td>1.791193</td>\n",
       "      <td>1</td>\n",
       "    </tr>\n",
       "    <tr>\n",
       "      <th>40456</th>\n",
       "      <td>(Eggs, Paper towels, Ice cream)</td>\n",
       "      <td>(Pasta)</td>\n",
       "      <td>1.731003</td>\n",
       "      <td>1</td>\n",
       "    </tr>\n",
       "    <tr>\n",
       "      <th>40314</th>\n",
       "      <td>(Cereals, Sandwich bags, Bagels)</td>\n",
       "      <td>(Cheeses)</td>\n",
       "      <td>1.726209</td>\n",
       "      <td>1</td>\n",
       "    </tr>\n",
       "    <tr>\n",
       "      <th>40302</th>\n",
       "      <td>(Aluminum foil, Yogurt, Toilet paper)</td>\n",
       "      <td>(Juice)</td>\n",
       "      <td>1.700401</td>\n",
       "      <td>1</td>\n",
       "    </tr>\n",
       "    <tr>\n",
       "      <th>40316</th>\n",
       "      <td>(Cereals, Bagels, Cheeses)</td>\n",
       "      <td>(Sandwich bags)</td>\n",
       "      <td>1.659641</td>\n",
       "      <td>1</td>\n",
       "    </tr>\n",
       "  </tbody>\n",
       "</table>\n",
       "</div>"
      ],
      "text/plain": [
       "                                 antecedents      consequents      lift  RN\n",
       "40454               (Eggs, Pasta, Ice cream)   (Paper towels)  1.791193   1\n",
       "40456        (Eggs, Paper towels, Ice cream)          (Pasta)  1.731003   1\n",
       "40314       (Cereals, Sandwich bags, Bagels)        (Cheeses)  1.726209   1\n",
       "40302  (Aluminum foil, Yogurt, Toilet paper)          (Juice)  1.700401   1\n",
       "40316             (Cereals, Bagels, Cheeses)  (Sandwich bags)  1.659641   1"
      ]
     },
     "execution_count": 387,
     "metadata": {},
     "output_type": "execute_result"
    }
   ],
   "source": [
    "sing_recomm.sort_values('lift',ascending = False).head()"
   ]
  }
 ],
 "metadata": {
  "kernelspec": {
   "display_name": "Python 3",
   "language": "python",
   "name": "python3"
  },
  "language_info": {
   "codemirror_mode": {
    "name": "ipython",
    "version": 3
   },
   "file_extension": ".py",
   "mimetype": "text/x-python",
   "name": "python",
   "nbconvert_exporter": "python",
   "pygments_lexer": "ipython3",
   "version": "3.8.8"
  }
 },
 "nbformat": 4,
 "nbformat_minor": 5
}
